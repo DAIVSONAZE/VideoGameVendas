{
  "nbformat": 4,
  "nbformat_minor": 0,
  "metadata": {
    "colab": {
      "name": "VideoGameSales.ipynb",
      "provenance": [],
      "collapsed_sections": [],
      "toc_visible": true,
      "authorship_tag": "ABX9TyOzmC+JazPJ7bQ3STkfXPCC",
      "include_colab_link": true
    },
    "kernelspec": {
      "name": "python3",
      "display_name": "Python 3"
    }
  },
  "cells": [
    {
      "cell_type": "markdown",
      "metadata": {
        "id": "view-in-github",
        "colab_type": "text"
      },
      "source": [
        "<a href=\"https://colab.research.google.com/github/DAIVSONAZE/VideoGameVendas/blob/master/VideoGameSales.ipynb\" target=\"_parent\"><img src=\"https://colab.research.google.com/assets/colab-badge.svg\" alt=\"Open In Colab\"/></a>"
      ]
    },
    {
      "cell_type": "code",
      "metadata": {
        "id": "I9dryK0kZaeA",
        "colab_type": "code",
        "colab": {}
      },
      "source": [
        "import numpy as np\n",
        "import pandas as pd\n",
        "import matplotlib.pyplot as plt\n",
        "from matplotlib.ticker import FuncFormatter\n"
      ],
      "execution_count": 1,
      "outputs": []
    },
    {
      "cell_type": "code",
      "metadata": {
        "id": "HL_ul8NEak3F",
        "colab_type": "code",
        "colab": {}
      },
      "source": [
        "#Video Game Sales\n",
        "#Analyze sales data from more than 16,500 games.\n",
        "#SetData: https://www.kaggle.com/gregorut/videogamesales"
      ],
      "execution_count": null,
      "outputs": []
    },
    {
      "cell_type": "code",
      "metadata": {
        "id": "ydoqLLEVZj0w",
        "colab_type": "code",
        "cellView": "both",
        "colab": {}
      },
      "source": [
        "\n",
        "ledados = pd.read_csv('vgsales.csv')"
      ],
      "execution_count": 2,
      "outputs": []
    },
    {
      "cell_type": "code",
      "metadata": {
        "id": "LhHh5U7IywcW",
        "colab_type": "code",
        "colab": {
          "base_uri": "https://localhost:8080/",
          "height": 380
        },
        "outputId": "dcbf64ef-d98e-47e6-aad2-fcef07c92a2f"
      },
      "source": [
        "ledados.head(10)"
      ],
      "execution_count": null,
      "outputs": [
        {
          "output_type": "execute_result",
          "data": {
            "text/html": [
              "<div>\n",
              "<style scoped>\n",
              "    .dataframe tbody tr th:only-of-type {\n",
              "        vertical-align: middle;\n",
              "    }\n",
              "\n",
              "    .dataframe tbody tr th {\n",
              "        vertical-align: top;\n",
              "    }\n",
              "\n",
              "    .dataframe thead th {\n",
              "        text-align: right;\n",
              "    }\n",
              "</style>\n",
              "<table border=\"1\" class=\"dataframe\">\n",
              "  <thead>\n",
              "    <tr style=\"text-align: right;\">\n",
              "      <th></th>\n",
              "      <th>Rank</th>\n",
              "      <th>Name</th>\n",
              "      <th>Platform</th>\n",
              "      <th>Year</th>\n",
              "      <th>Genre</th>\n",
              "      <th>Publisher</th>\n",
              "      <th>NA_Sales</th>\n",
              "      <th>EU_Sales</th>\n",
              "      <th>JP_Sales</th>\n",
              "      <th>Other_Sales</th>\n",
              "      <th>Global_Sales</th>\n",
              "    </tr>\n",
              "  </thead>\n",
              "  <tbody>\n",
              "    <tr>\n",
              "      <th>0</th>\n",
              "      <td>1</td>\n",
              "      <td>Wii Sports</td>\n",
              "      <td>Wii</td>\n",
              "      <td>2006.0</td>\n",
              "      <td>Sports</td>\n",
              "      <td>Nintendo</td>\n",
              "      <td>41.49</td>\n",
              "      <td>29.02</td>\n",
              "      <td>3.77</td>\n",
              "      <td>8.46</td>\n",
              "      <td>82.74</td>\n",
              "    </tr>\n",
              "    <tr>\n",
              "      <th>1</th>\n",
              "      <td>2</td>\n",
              "      <td>Super Mario Bros.</td>\n",
              "      <td>NES</td>\n",
              "      <td>1985.0</td>\n",
              "      <td>Platform</td>\n",
              "      <td>Nintendo</td>\n",
              "      <td>29.08</td>\n",
              "      <td>3.58</td>\n",
              "      <td>6.81</td>\n",
              "      <td>0.77</td>\n",
              "      <td>40.24</td>\n",
              "    </tr>\n",
              "    <tr>\n",
              "      <th>2</th>\n",
              "      <td>3</td>\n",
              "      <td>Mario Kart Wii</td>\n",
              "      <td>Wii</td>\n",
              "      <td>2008.0</td>\n",
              "      <td>Racing</td>\n",
              "      <td>Nintendo</td>\n",
              "      <td>15.85</td>\n",
              "      <td>12.88</td>\n",
              "      <td>3.79</td>\n",
              "      <td>3.31</td>\n",
              "      <td>35.82</td>\n",
              "    </tr>\n",
              "    <tr>\n",
              "      <th>3</th>\n",
              "      <td>4</td>\n",
              "      <td>Wii Sports Resort</td>\n",
              "      <td>Wii</td>\n",
              "      <td>2009.0</td>\n",
              "      <td>Sports</td>\n",
              "      <td>Nintendo</td>\n",
              "      <td>15.75</td>\n",
              "      <td>11.01</td>\n",
              "      <td>3.28</td>\n",
              "      <td>2.96</td>\n",
              "      <td>33.00</td>\n",
              "    </tr>\n",
              "    <tr>\n",
              "      <th>4</th>\n",
              "      <td>5</td>\n",
              "      <td>Pokemon Red/Pokemon Blue</td>\n",
              "      <td>GB</td>\n",
              "      <td>1996.0</td>\n",
              "      <td>Role-Playing</td>\n",
              "      <td>Nintendo</td>\n",
              "      <td>11.27</td>\n",
              "      <td>8.89</td>\n",
              "      <td>10.22</td>\n",
              "      <td>1.00</td>\n",
              "      <td>31.37</td>\n",
              "    </tr>\n",
              "    <tr>\n",
              "      <th>5</th>\n",
              "      <td>6</td>\n",
              "      <td>Tetris</td>\n",
              "      <td>GB</td>\n",
              "      <td>1989.0</td>\n",
              "      <td>Puzzle</td>\n",
              "      <td>Nintendo</td>\n",
              "      <td>23.20</td>\n",
              "      <td>2.26</td>\n",
              "      <td>4.22</td>\n",
              "      <td>0.58</td>\n",
              "      <td>30.26</td>\n",
              "    </tr>\n",
              "    <tr>\n",
              "      <th>6</th>\n",
              "      <td>7</td>\n",
              "      <td>New Super Mario Bros.</td>\n",
              "      <td>DS</td>\n",
              "      <td>2006.0</td>\n",
              "      <td>Platform</td>\n",
              "      <td>Nintendo</td>\n",
              "      <td>11.38</td>\n",
              "      <td>9.23</td>\n",
              "      <td>6.50</td>\n",
              "      <td>2.90</td>\n",
              "      <td>30.01</td>\n",
              "    </tr>\n",
              "    <tr>\n",
              "      <th>7</th>\n",
              "      <td>8</td>\n",
              "      <td>Wii Play</td>\n",
              "      <td>Wii</td>\n",
              "      <td>2006.0</td>\n",
              "      <td>Misc</td>\n",
              "      <td>Nintendo</td>\n",
              "      <td>14.03</td>\n",
              "      <td>9.20</td>\n",
              "      <td>2.93</td>\n",
              "      <td>2.85</td>\n",
              "      <td>29.02</td>\n",
              "    </tr>\n",
              "    <tr>\n",
              "      <th>8</th>\n",
              "      <td>9</td>\n",
              "      <td>New Super Mario Bros. Wii</td>\n",
              "      <td>Wii</td>\n",
              "      <td>2009.0</td>\n",
              "      <td>Platform</td>\n",
              "      <td>Nintendo</td>\n",
              "      <td>14.59</td>\n",
              "      <td>7.06</td>\n",
              "      <td>4.70</td>\n",
              "      <td>2.26</td>\n",
              "      <td>28.62</td>\n",
              "    </tr>\n",
              "    <tr>\n",
              "      <th>9</th>\n",
              "      <td>10</td>\n",
              "      <td>Duck Hunt</td>\n",
              "      <td>NES</td>\n",
              "      <td>1984.0</td>\n",
              "      <td>Shooter</td>\n",
              "      <td>Nintendo</td>\n",
              "      <td>26.93</td>\n",
              "      <td>0.63</td>\n",
              "      <td>0.28</td>\n",
              "      <td>0.47</td>\n",
              "      <td>28.31</td>\n",
              "    </tr>\n",
              "  </tbody>\n",
              "</table>\n",
              "</div>"
            ],
            "text/plain": [
              "   Rank                       Name  ... Other_Sales  Global_Sales\n",
              "0     1                 Wii Sports  ...        8.46         82.74\n",
              "1     2          Super Mario Bros.  ...        0.77         40.24\n",
              "2     3             Mario Kart Wii  ...        3.31         35.82\n",
              "3     4          Wii Sports Resort  ...        2.96         33.00\n",
              "4     5   Pokemon Red/Pokemon Blue  ...        1.00         31.37\n",
              "5     6                     Tetris  ...        0.58         30.26\n",
              "6     7      New Super Mario Bros.  ...        2.90         30.01\n",
              "7     8                   Wii Play  ...        2.85         29.02\n",
              "8     9  New Super Mario Bros. Wii  ...        2.26         28.62\n",
              "9    10                  Duck Hunt  ...        0.47         28.31\n",
              "\n",
              "[10 rows x 11 columns]"
            ]
          },
          "metadata": {
            "tags": []
          },
          "execution_count": 3
        }
      ]
    },
    {
      "cell_type": "code",
      "metadata": {
        "id": "Vy0HvmJPtjmN",
        "colab_type": "code",
        "colab": {
          "base_uri": "https://localhost:8080/",
          "height": 35
        },
        "outputId": "adf6ddd4-4360-44a7-e528-fb20c76e6900"
      },
      "source": [
        "#Numero de NaN\n",
        "ledados.isnull().sum().sum()"
      ],
      "execution_count": 7,
      "outputs": [
        {
          "output_type": "execute_result",
          "data": {
            "text/plain": [
              "329"
            ]
          },
          "metadata": {
            "tags": []
          },
          "execution_count": 7
        }
      ]
    },
    {
      "cell_type": "code",
      "metadata": {
        "id": "rDCr6fKjuHvG",
        "colab_type": "code",
        "colab": {
          "base_uri": "https://localhost:8080/",
          "height": 237
        },
        "outputId": "c6403302-0768-4666-cd2b-71cf5c1113ab"
      },
      "source": [
        "#Colunas que possuem o NaN\n",
        "ledados.isnull().sum()"
      ],
      "execution_count": 8,
      "outputs": [
        {
          "output_type": "execute_result",
          "data": {
            "text/plain": [
              "Rank              0\n",
              "Name              0\n",
              "Platform          0\n",
              "Year            271\n",
              "Genre             0\n",
              "Publisher        58\n",
              "NA_Sales          0\n",
              "EU_Sales          0\n",
              "JP_Sales          0\n",
              "Other_Sales       0\n",
              "Global_Sales      0\n",
              "dtype: int64"
            ]
          },
          "metadata": {
            "tags": []
          },
          "execution_count": 8
        }
      ]
    },
    {
      "cell_type": "code",
      "metadata": {
        "id": "FuIxcVv_sU3q",
        "colab_type": "code",
        "colab": {}
      },
      "source": [
        "ledados = ledados.replace({\"Year\": {np.nan: 0}})#Muda de NaN para 0\n",
        "ledados = ledados.replace({\"Publisher\": {np.nan: \"Não definido\"}}) #Muda de NaN para \"Não definido\"\n"
      ],
      "execution_count": 14,
      "outputs": []
    },
    {
      "cell_type": "code",
      "metadata": {
        "id": "7rAcX0G6usSG",
        "colab_type": "code",
        "colab": {
          "base_uri": "https://localhost:8080/",
          "height": 237
        },
        "outputId": "b978f0eb-340c-49a4-809c-c42f53047555"
      },
      "source": [
        "ledados.isnull().sum()"
      ],
      "execution_count": 15,
      "outputs": [
        {
          "output_type": "execute_result",
          "data": {
            "text/plain": [
              "Rank            0\n",
              "Name            0\n",
              "Platform        0\n",
              "Year            0\n",
              "Genre           0\n",
              "Publisher       0\n",
              "NA_Sales        0\n",
              "EU_Sales        0\n",
              "JP_Sales        0\n",
              "Other_Sales     0\n",
              "Global_Sales    0\n",
              "dtype: int64"
            ]
          },
          "metadata": {
            "tags": []
          },
          "execution_count": 15
        }
      ]
    },
    {
      "cell_type": "code",
      "metadata": {
        "id": "JpiCzPCjt7AP",
        "colab_type": "code",
        "colab": {
          "base_uri": "https://localhost:8080/",
          "height": 511
        },
        "outputId": "29af213d-ede5-4725-9b68-239f50c425da"
      },
      "source": [
        "ledados"
      ],
      "execution_count": null,
      "outputs": [
        {
          "output_type": "execute_result",
          "data": {
            "text/html": [
              "<div>\n",
              "<style scoped>\n",
              "    .dataframe tbody tr th:only-of-type {\n",
              "        vertical-align: middle;\n",
              "    }\n",
              "\n",
              "    .dataframe tbody tr th {\n",
              "        vertical-align: top;\n",
              "    }\n",
              "\n",
              "    .dataframe thead th {\n",
              "        text-align: right;\n",
              "    }\n",
              "</style>\n",
              "<table border=\"1\" class=\"dataframe\">\n",
              "  <thead>\n",
              "    <tr style=\"text-align: right;\">\n",
              "      <th></th>\n",
              "      <th>Rank</th>\n",
              "      <th>Name</th>\n",
              "      <th>Platform</th>\n",
              "      <th>Year</th>\n",
              "      <th>Genre</th>\n",
              "      <th>Publisher</th>\n",
              "      <th>NA_Sales</th>\n",
              "      <th>EU_Sales</th>\n",
              "      <th>JP_Sales</th>\n",
              "      <th>Other_Sales</th>\n",
              "      <th>Global_Sales</th>\n",
              "    </tr>\n",
              "  </thead>\n",
              "  <tbody>\n",
              "    <tr>\n",
              "      <th>0</th>\n",
              "      <td>1</td>\n",
              "      <td>Wii Sports</td>\n",
              "      <td>Wii</td>\n",
              "      <td>2006.0</td>\n",
              "      <td>Sports</td>\n",
              "      <td>Nintendo</td>\n",
              "      <td>41.49</td>\n",
              "      <td>29.02</td>\n",
              "      <td>3.77</td>\n",
              "      <td>8.46</td>\n",
              "      <td>82.74</td>\n",
              "    </tr>\n",
              "    <tr>\n",
              "      <th>1</th>\n",
              "      <td>2</td>\n",
              "      <td>Super Mario Bros.</td>\n",
              "      <td>NES</td>\n",
              "      <td>1985.0</td>\n",
              "      <td>Platform</td>\n",
              "      <td>Nintendo</td>\n",
              "      <td>29.08</td>\n",
              "      <td>3.58</td>\n",
              "      <td>6.81</td>\n",
              "      <td>0.77</td>\n",
              "      <td>40.24</td>\n",
              "    </tr>\n",
              "    <tr>\n",
              "      <th>2</th>\n",
              "      <td>3</td>\n",
              "      <td>Mario Kart Wii</td>\n",
              "      <td>Wii</td>\n",
              "      <td>2008.0</td>\n",
              "      <td>Racing</td>\n",
              "      <td>Nintendo</td>\n",
              "      <td>15.85</td>\n",
              "      <td>12.88</td>\n",
              "      <td>3.79</td>\n",
              "      <td>3.31</td>\n",
              "      <td>35.82</td>\n",
              "    </tr>\n",
              "    <tr>\n",
              "      <th>3</th>\n",
              "      <td>4</td>\n",
              "      <td>Wii Sports Resort</td>\n",
              "      <td>Wii</td>\n",
              "      <td>2009.0</td>\n",
              "      <td>Sports</td>\n",
              "      <td>Nintendo</td>\n",
              "      <td>15.75</td>\n",
              "      <td>11.01</td>\n",
              "      <td>3.28</td>\n",
              "      <td>2.96</td>\n",
              "      <td>33.00</td>\n",
              "    </tr>\n",
              "    <tr>\n",
              "      <th>4</th>\n",
              "      <td>5</td>\n",
              "      <td>Pokemon Red/Pokemon Blue</td>\n",
              "      <td>GB</td>\n",
              "      <td>1996.0</td>\n",
              "      <td>Role-Playing</td>\n",
              "      <td>Nintendo</td>\n",
              "      <td>11.27</td>\n",
              "      <td>8.89</td>\n",
              "      <td>10.22</td>\n",
              "      <td>1.00</td>\n",
              "      <td>31.37</td>\n",
              "    </tr>\n",
              "    <tr>\n",
              "      <th>...</th>\n",
              "      <td>...</td>\n",
              "      <td>...</td>\n",
              "      <td>...</td>\n",
              "      <td>...</td>\n",
              "      <td>...</td>\n",
              "      <td>...</td>\n",
              "      <td>...</td>\n",
              "      <td>...</td>\n",
              "      <td>...</td>\n",
              "      <td>...</td>\n",
              "      <td>...</td>\n",
              "    </tr>\n",
              "    <tr>\n",
              "      <th>16593</th>\n",
              "      <td>16596</td>\n",
              "      <td>Woody Woodpecker in Crazy Castle 5</td>\n",
              "      <td>GBA</td>\n",
              "      <td>2002.0</td>\n",
              "      <td>Platform</td>\n",
              "      <td>Kemco</td>\n",
              "      <td>0.01</td>\n",
              "      <td>0.00</td>\n",
              "      <td>0.00</td>\n",
              "      <td>0.00</td>\n",
              "      <td>0.01</td>\n",
              "    </tr>\n",
              "    <tr>\n",
              "      <th>16594</th>\n",
              "      <td>16597</td>\n",
              "      <td>Men in Black II: Alien Escape</td>\n",
              "      <td>GC</td>\n",
              "      <td>2003.0</td>\n",
              "      <td>Shooter</td>\n",
              "      <td>Infogrames</td>\n",
              "      <td>0.01</td>\n",
              "      <td>0.00</td>\n",
              "      <td>0.00</td>\n",
              "      <td>0.00</td>\n",
              "      <td>0.01</td>\n",
              "    </tr>\n",
              "    <tr>\n",
              "      <th>16595</th>\n",
              "      <td>16598</td>\n",
              "      <td>SCORE International Baja 1000: The Official Game</td>\n",
              "      <td>PS2</td>\n",
              "      <td>2008.0</td>\n",
              "      <td>Racing</td>\n",
              "      <td>Activision</td>\n",
              "      <td>0.00</td>\n",
              "      <td>0.00</td>\n",
              "      <td>0.00</td>\n",
              "      <td>0.00</td>\n",
              "      <td>0.01</td>\n",
              "    </tr>\n",
              "    <tr>\n",
              "      <th>16596</th>\n",
              "      <td>16599</td>\n",
              "      <td>Know How 2</td>\n",
              "      <td>DS</td>\n",
              "      <td>2010.0</td>\n",
              "      <td>Puzzle</td>\n",
              "      <td>7G//AMES</td>\n",
              "      <td>0.00</td>\n",
              "      <td>0.01</td>\n",
              "      <td>0.00</td>\n",
              "      <td>0.00</td>\n",
              "      <td>0.01</td>\n",
              "    </tr>\n",
              "    <tr>\n",
              "      <th>16597</th>\n",
              "      <td>16600</td>\n",
              "      <td>Spirits &amp; Spells</td>\n",
              "      <td>GBA</td>\n",
              "      <td>2003.0</td>\n",
              "      <td>Platform</td>\n",
              "      <td>Wanadoo</td>\n",
              "      <td>0.01</td>\n",
              "      <td>0.00</td>\n",
              "      <td>0.00</td>\n",
              "      <td>0.00</td>\n",
              "      <td>0.01</td>\n",
              "    </tr>\n",
              "  </tbody>\n",
              "</table>\n",
              "<p>16598 rows × 11 columns</p>\n",
              "</div>"
            ],
            "text/plain": [
              "        Rank  ... Global_Sales\n",
              "0          1  ...        82.74\n",
              "1          2  ...        40.24\n",
              "2          3  ...        35.82\n",
              "3          4  ...        33.00\n",
              "4          5  ...        31.37\n",
              "...      ...  ...          ...\n",
              "16593  16596  ...         0.01\n",
              "16594  16597  ...         0.01\n",
              "16595  16598  ...         0.01\n",
              "16596  16599  ...         0.01\n",
              "16597  16600  ...         0.01\n",
              "\n",
              "[16598 rows x 11 columns]"
            ]
          },
          "metadata": {
            "tags": []
          },
          "execution_count": 43
        }
      ]
    },
    {
      "cell_type": "code",
      "metadata": {
        "id": "by5JX8OdHADN",
        "colab_type": "code",
        "colab": {
          "base_uri": "https://localhost:8080/",
          "height": 35
        },
        "outputId": "8a86febc-1412-4da7-ff6a-3af61d5c83bc"
      },
      "source": [
        "ledados.shape()"
      ],
      "execution_count": null,
      "outputs": [
        {
          "output_type": "execute_result",
          "data": {
            "text/plain": [
              "(16598, 11)"
            ]
          },
          "metadata": {
            "tags": []
          },
          "execution_count": 21
        }
      ]
    },
    {
      "cell_type": "code",
      "metadata": {
        "id": "UDb6sIEbIWh9",
        "colab_type": "code",
        "colab": {
          "base_uri": "https://localhost:8080/",
          "height": 35
        },
        "outputId": "b484244b-fe1c-4187-c748-75d1de73cf89"
      },
      "source": [
        "type(ledados)"
      ],
      "execution_count": null,
      "outputs": [
        {
          "output_type": "execute_result",
          "data": {
            "text/plain": [
              "pandas.core.frame.DataFrame"
            ]
          },
          "metadata": {
            "tags": []
          },
          "execution_count": 23
        }
      ]
    },
    {
      "cell_type": "code",
      "metadata": {
        "id": "JeK4QnHqJ3Qu",
        "colab_type": "code",
        "colab": {
          "base_uri": "https://localhost:8080/",
          "height": 274
        },
        "outputId": "ed1bd600-bca0-4c5f-9c6b-904bc00f14a5"
      },
      "source": [
        "ledados.describe"
      ],
      "execution_count": null,
      "outputs": [
        {
          "output_type": "execute_result",
          "data": {
            "text/plain": [
              "<bound method NDFrame.describe of         Rank  ... Global_Sales\n",
              "0          1  ...        82.74\n",
              "1          2  ...        40.24\n",
              "2          3  ...        35.82\n",
              "3          4  ...        33.00\n",
              "4          5  ...        31.37\n",
              "...      ...  ...          ...\n",
              "16593  16596  ...         0.01\n",
              "16594  16597  ...         0.01\n",
              "16595  16598  ...         0.01\n",
              "16596  16599  ...         0.01\n",
              "16597  16600  ...         0.01\n",
              "\n",
              "[16598 rows x 11 columns]>"
            ]
          },
          "metadata": {
            "tags": []
          },
          "execution_count": 28
        }
      ]
    },
    {
      "cell_type": "code",
      "metadata": {
        "id": "wW-hRK45PssG",
        "colab_type": "code",
        "colab": {
          "base_uri": "https://localhost:8080/",
          "height": 237
        },
        "outputId": "57df4346-1a63-44c5-f99d-6a5d863c481e"
      },
      "source": [
        "ledados.dtypes"
      ],
      "execution_count": null,
      "outputs": [
        {
          "output_type": "execute_result",
          "data": {
            "text/plain": [
              "Rank              int64\n",
              "Name             object\n",
              "Platform         object\n",
              "Year            float64\n",
              "Genre            object\n",
              "Publisher        object\n",
              "NA_Sales        float64\n",
              "EU_Sales        float64\n",
              "JP_Sales        float64\n",
              "Other_Sales     float64\n",
              "Global_Sales    float64\n",
              "dtype: object"
            ]
          },
          "metadata": {
            "tags": []
          },
          "execution_count": 36
        }
      ]
    },
    {
      "cell_type": "code",
      "metadata": {
        "id": "f46G3OilQnLe",
        "colab_type": "code",
        "colab": {
          "base_uri": "https://localhost:8080/",
          "height": 366
        },
        "outputId": "a6983b1b-3fda-497d-9977-e112fa31c1fd"
      },
      "source": [
        "#Informções do Dataset\n",
        "print(\" Dataset Information: \" + str(ledados.info()))"
      ],
      "execution_count": 4,
      "outputs": [
        {
          "output_type": "stream",
          "text": [
            "<class 'pandas.core.frame.DataFrame'>\n",
            "RangeIndex: 16598 entries, 0 to 16597\n",
            "Data columns (total 11 columns):\n",
            " #   Column        Non-Null Count  Dtype  \n",
            "---  ------        --------------  -----  \n",
            " 0   Rank          16598 non-null  int64  \n",
            " 1   Name          16598 non-null  object \n",
            " 2   Platform      16598 non-null  object \n",
            " 3   Year          16327 non-null  float64\n",
            " 4   Genre         16598 non-null  object \n",
            " 5   Publisher     16540 non-null  object \n",
            " 6   NA_Sales      16598 non-null  float64\n",
            " 7   EU_Sales      16598 non-null  float64\n",
            " 8   JP_Sales      16598 non-null  float64\n",
            " 9   Other_Sales   16598 non-null  float64\n",
            " 10  Global_Sales  16598 non-null  float64\n",
            "dtypes: float64(6), int64(1), object(4)\n",
            "memory usage: 1.4+ MB\n",
            " Dataset Information: None\n"
          ],
          "name": "stdout"
        }
      ]
    },
    {
      "cell_type": "code",
      "metadata": {
        "id": "8zz_-ezcQ_cI",
        "colab_type": "code",
        "colab": {
          "base_uri": "https://localhost:8080/",
          "height": 269
        },
        "outputId": "8c566153-7a48-4ceb-e7de-f53b3cbb7823"
      },
      "source": [
        "ledados.describe().T"
      ],
      "execution_count": null,
      "outputs": [
        {
          "output_type": "execute_result",
          "data": {
            "text/html": [
              "<div>\n",
              "<style scoped>\n",
              "    .dataframe tbody tr th:only-of-type {\n",
              "        vertical-align: middle;\n",
              "    }\n",
              "\n",
              "    .dataframe tbody tr th {\n",
              "        vertical-align: top;\n",
              "    }\n",
              "\n",
              "    .dataframe thead th {\n",
              "        text-align: right;\n",
              "    }\n",
              "</style>\n",
              "<table border=\"1\" class=\"dataframe\">\n",
              "  <thead>\n",
              "    <tr style=\"text-align: right;\">\n",
              "      <th></th>\n",
              "      <th>count</th>\n",
              "      <th>mean</th>\n",
              "      <th>std</th>\n",
              "      <th>min</th>\n",
              "      <th>25%</th>\n",
              "      <th>50%</th>\n",
              "      <th>75%</th>\n",
              "      <th>max</th>\n",
              "    </tr>\n",
              "  </thead>\n",
              "  <tbody>\n",
              "    <tr>\n",
              "      <th>Rank</th>\n",
              "      <td>16598.0</td>\n",
              "      <td>8300.605254</td>\n",
              "      <td>4791.853933</td>\n",
              "      <td>1.00</td>\n",
              "      <td>4151.25</td>\n",
              "      <td>8300.50</td>\n",
              "      <td>12449.75</td>\n",
              "      <td>16600.00</td>\n",
              "    </tr>\n",
              "    <tr>\n",
              "      <th>Year</th>\n",
              "      <td>16327.0</td>\n",
              "      <td>2006.406443</td>\n",
              "      <td>5.828981</td>\n",
              "      <td>1980.00</td>\n",
              "      <td>2003.00</td>\n",
              "      <td>2007.00</td>\n",
              "      <td>2010.00</td>\n",
              "      <td>2020.00</td>\n",
              "    </tr>\n",
              "    <tr>\n",
              "      <th>NA_Sales</th>\n",
              "      <td>16598.0</td>\n",
              "      <td>0.264667</td>\n",
              "      <td>0.816683</td>\n",
              "      <td>0.00</td>\n",
              "      <td>0.00</td>\n",
              "      <td>0.08</td>\n",
              "      <td>0.24</td>\n",
              "      <td>41.49</td>\n",
              "    </tr>\n",
              "    <tr>\n",
              "      <th>EU_Sales</th>\n",
              "      <td>16598.0</td>\n",
              "      <td>0.146652</td>\n",
              "      <td>0.505351</td>\n",
              "      <td>0.00</td>\n",
              "      <td>0.00</td>\n",
              "      <td>0.02</td>\n",
              "      <td>0.11</td>\n",
              "      <td>29.02</td>\n",
              "    </tr>\n",
              "    <tr>\n",
              "      <th>JP_Sales</th>\n",
              "      <td>16598.0</td>\n",
              "      <td>0.077782</td>\n",
              "      <td>0.309291</td>\n",
              "      <td>0.00</td>\n",
              "      <td>0.00</td>\n",
              "      <td>0.00</td>\n",
              "      <td>0.04</td>\n",
              "      <td>10.22</td>\n",
              "    </tr>\n",
              "    <tr>\n",
              "      <th>Other_Sales</th>\n",
              "      <td>16598.0</td>\n",
              "      <td>0.048063</td>\n",
              "      <td>0.188588</td>\n",
              "      <td>0.00</td>\n",
              "      <td>0.00</td>\n",
              "      <td>0.01</td>\n",
              "      <td>0.04</td>\n",
              "      <td>10.57</td>\n",
              "    </tr>\n",
              "    <tr>\n",
              "      <th>Global_Sales</th>\n",
              "      <td>16598.0</td>\n",
              "      <td>0.537441</td>\n",
              "      <td>1.555028</td>\n",
              "      <td>0.01</td>\n",
              "      <td>0.06</td>\n",
              "      <td>0.17</td>\n",
              "      <td>0.47</td>\n",
              "      <td>82.74</td>\n",
              "    </tr>\n",
              "  </tbody>\n",
              "</table>\n",
              "</div>"
            ],
            "text/plain": [
              "                count         mean          std  ...      50%       75%       max\n",
              "Rank          16598.0  8300.605254  4791.853933  ...  8300.50  12449.75  16600.00\n",
              "Year          16327.0  2006.406443     5.828981  ...  2007.00   2010.00   2020.00\n",
              "NA_Sales      16598.0     0.264667     0.816683  ...     0.08      0.24     41.49\n",
              "EU_Sales      16598.0     0.146652     0.505351  ...     0.02      0.11     29.02\n",
              "JP_Sales      16598.0     0.077782     0.309291  ...     0.00      0.04     10.22\n",
              "Other_Sales   16598.0     0.048063     0.188588  ...     0.01      0.04     10.57\n",
              "Global_Sales  16598.0     0.537441     1.555028  ...     0.17      0.47     82.74\n",
              "\n",
              "[7 rows x 8 columns]"
            ]
          },
          "metadata": {
            "tags": []
          },
          "execution_count": 68
        }
      ]
    },
    {
      "cell_type": "code",
      "metadata": {
        "id": "Ccw2CLKQOkP_",
        "colab_type": "code",
        "colab": {
          "base_uri": "https://localhost:8080/",
          "height": 72
        },
        "outputId": "caf5fe15-8111-48c1-d2ea-acbbd0b059aa"
      },
      "source": [
        "ledados.columns"
      ],
      "execution_count": null,
      "outputs": [
        {
          "output_type": "execute_result",
          "data": {
            "text/plain": [
              "Index(['Rank', 'Name', 'Platform', 'Year', 'Genre', 'Publisher', 'NA_Sales',\n",
              "       'EU_Sales', 'JP_Sales', 'Other_Sales', 'Global_Sales'],\n",
              "      dtype='object')"
            ]
          },
          "metadata": {
            "tags": []
          },
          "execution_count": 37
        }
      ]
    },
    {
      "cell_type": "code",
      "metadata": {
        "id": "8y60ATND2iJi",
        "colab_type": "code",
        "colab": {
          "base_uri": "https://localhost:8080/",
          "height": 237
        },
        "outputId": "b95a9216-cacf-4089-f3ca-7ec5c60a06ed"
      },
      "source": [
        "ledados['Year']"
      ],
      "execution_count": null,
      "outputs": [
        {
          "output_type": "execute_result",
          "data": {
            "text/plain": [
              "0        2006.0\n",
              "1        1985.0\n",
              "2        2008.0\n",
              "3        2009.0\n",
              "4        1996.0\n",
              "          ...  \n",
              "16593    2002.0\n",
              "16594    2003.0\n",
              "16595    2008.0\n",
              "16596    2010.0\n",
              "16597    2003.0\n",
              "Name: Year, Length: 16598, dtype: float64"
            ]
          },
          "metadata": {
            "tags": []
          },
          "execution_count": 19
        }
      ]
    },
    {
      "cell_type": "code",
      "metadata": {
        "id": "RjjI9pqXM4rT",
        "colab_type": "code",
        "colab": {
          "base_uri": "https://localhost:8080/",
          "height": 511
        },
        "outputId": "2404e716-00b2-49d9-9316-ab45b002396b"
      },
      "source": [
        "ledados.sort_values(by='Global_Sales', ascending=False)"
      ],
      "execution_count": null,
      "outputs": [
        {
          "output_type": "execute_result",
          "data": {
            "text/html": [
              "<div>\n",
              "<style scoped>\n",
              "    .dataframe tbody tr th:only-of-type {\n",
              "        vertical-align: middle;\n",
              "    }\n",
              "\n",
              "    .dataframe tbody tr th {\n",
              "        vertical-align: top;\n",
              "    }\n",
              "\n",
              "    .dataframe thead th {\n",
              "        text-align: right;\n",
              "    }\n",
              "</style>\n",
              "<table border=\"1\" class=\"dataframe\">\n",
              "  <thead>\n",
              "    <tr style=\"text-align: right;\">\n",
              "      <th></th>\n",
              "      <th>Rank</th>\n",
              "      <th>Name</th>\n",
              "      <th>Platform</th>\n",
              "      <th>Year</th>\n",
              "      <th>Genre</th>\n",
              "      <th>Publisher</th>\n",
              "      <th>NA_Sales</th>\n",
              "      <th>EU_Sales</th>\n",
              "      <th>JP_Sales</th>\n",
              "      <th>Other_Sales</th>\n",
              "      <th>Global_Sales</th>\n",
              "    </tr>\n",
              "  </thead>\n",
              "  <tbody>\n",
              "    <tr>\n",
              "      <th>0</th>\n",
              "      <td>1</td>\n",
              "      <td>Wii Sports</td>\n",
              "      <td>Wii</td>\n",
              "      <td>2006.0</td>\n",
              "      <td>Sports</td>\n",
              "      <td>Nintendo</td>\n",
              "      <td>41.49</td>\n",
              "      <td>29.02</td>\n",
              "      <td>3.77</td>\n",
              "      <td>8.46</td>\n",
              "      <td>82.74</td>\n",
              "    </tr>\n",
              "    <tr>\n",
              "      <th>1</th>\n",
              "      <td>2</td>\n",
              "      <td>Super Mario Bros.</td>\n",
              "      <td>NES</td>\n",
              "      <td>1985.0</td>\n",
              "      <td>Platform</td>\n",
              "      <td>Nintendo</td>\n",
              "      <td>29.08</td>\n",
              "      <td>3.58</td>\n",
              "      <td>6.81</td>\n",
              "      <td>0.77</td>\n",
              "      <td>40.24</td>\n",
              "    </tr>\n",
              "    <tr>\n",
              "      <th>2</th>\n",
              "      <td>3</td>\n",
              "      <td>Mario Kart Wii</td>\n",
              "      <td>Wii</td>\n",
              "      <td>2008.0</td>\n",
              "      <td>Racing</td>\n",
              "      <td>Nintendo</td>\n",
              "      <td>15.85</td>\n",
              "      <td>12.88</td>\n",
              "      <td>3.79</td>\n",
              "      <td>3.31</td>\n",
              "      <td>35.82</td>\n",
              "    </tr>\n",
              "    <tr>\n",
              "      <th>3</th>\n",
              "      <td>4</td>\n",
              "      <td>Wii Sports Resort</td>\n",
              "      <td>Wii</td>\n",
              "      <td>2009.0</td>\n",
              "      <td>Sports</td>\n",
              "      <td>Nintendo</td>\n",
              "      <td>15.75</td>\n",
              "      <td>11.01</td>\n",
              "      <td>3.28</td>\n",
              "      <td>2.96</td>\n",
              "      <td>33.00</td>\n",
              "    </tr>\n",
              "    <tr>\n",
              "      <th>4</th>\n",
              "      <td>5</td>\n",
              "      <td>Pokemon Red/Pokemon Blue</td>\n",
              "      <td>GB</td>\n",
              "      <td>1996.0</td>\n",
              "      <td>Role-Playing</td>\n",
              "      <td>Nintendo</td>\n",
              "      <td>11.27</td>\n",
              "      <td>8.89</td>\n",
              "      <td>10.22</td>\n",
              "      <td>1.00</td>\n",
              "      <td>31.37</td>\n",
              "    </tr>\n",
              "    <tr>\n",
              "      <th>...</th>\n",
              "      <td>...</td>\n",
              "      <td>...</td>\n",
              "      <td>...</td>\n",
              "      <td>...</td>\n",
              "      <td>...</td>\n",
              "      <td>...</td>\n",
              "      <td>...</td>\n",
              "      <td>...</td>\n",
              "      <td>...</td>\n",
              "      <td>...</td>\n",
              "      <td>...</td>\n",
              "    </tr>\n",
              "    <tr>\n",
              "      <th>16186</th>\n",
              "      <td>16189</td>\n",
              "      <td>BattleForge</td>\n",
              "      <td>PC</td>\n",
              "      <td>2009.0</td>\n",
              "      <td>Strategy</td>\n",
              "      <td>Electronic Arts</td>\n",
              "      <td>0.00</td>\n",
              "      <td>0.01</td>\n",
              "      <td>0.00</td>\n",
              "      <td>0.00</td>\n",
              "      <td>0.01</td>\n",
              "    </tr>\n",
              "    <tr>\n",
              "      <th>16187</th>\n",
              "      <td>16190</td>\n",
              "      <td>Jewel Quest II</td>\n",
              "      <td>PC</td>\n",
              "      <td>2007.0</td>\n",
              "      <td>Puzzle</td>\n",
              "      <td>Avanquest</td>\n",
              "      <td>0.00</td>\n",
              "      <td>0.01</td>\n",
              "      <td>0.00</td>\n",
              "      <td>0.00</td>\n",
              "      <td>0.01</td>\n",
              "    </tr>\n",
              "    <tr>\n",
              "      <th>16188</th>\n",
              "      <td>16191</td>\n",
              "      <td>Toro to Morimori</td>\n",
              "      <td>PS3</td>\n",
              "      <td>2009.0</td>\n",
              "      <td>Misc</td>\n",
              "      <td>Sony Computer Entertainment</td>\n",
              "      <td>0.00</td>\n",
              "      <td>0.00</td>\n",
              "      <td>0.01</td>\n",
              "      <td>0.00</td>\n",
              "      <td>0.01</td>\n",
              "    </tr>\n",
              "    <tr>\n",
              "      <th>16189</th>\n",
              "      <td>16192</td>\n",
              "      <td>Sonic &amp; All-Stars Racing Transformed</td>\n",
              "      <td>PC</td>\n",
              "      <td>2013.0</td>\n",
              "      <td>Racing</td>\n",
              "      <td>Sega</td>\n",
              "      <td>0.00</td>\n",
              "      <td>0.01</td>\n",
              "      <td>0.00</td>\n",
              "      <td>0.00</td>\n",
              "      <td>0.01</td>\n",
              "    </tr>\n",
              "    <tr>\n",
              "      <th>16597</th>\n",
              "      <td>16600</td>\n",
              "      <td>Spirits &amp; Spells</td>\n",
              "      <td>GBA</td>\n",
              "      <td>2003.0</td>\n",
              "      <td>Platform</td>\n",
              "      <td>Wanadoo</td>\n",
              "      <td>0.01</td>\n",
              "      <td>0.00</td>\n",
              "      <td>0.00</td>\n",
              "      <td>0.00</td>\n",
              "      <td>0.01</td>\n",
              "    </tr>\n",
              "  </tbody>\n",
              "</table>\n",
              "<p>16598 rows × 11 columns</p>\n",
              "</div>"
            ],
            "text/plain": [
              "        Rank                                  Name  ... Other_Sales  Global_Sales\n",
              "0          1                            Wii Sports  ...        8.46         82.74\n",
              "1          2                     Super Mario Bros.  ...        0.77         40.24\n",
              "2          3                        Mario Kart Wii  ...        3.31         35.82\n",
              "3          4                     Wii Sports Resort  ...        2.96         33.00\n",
              "4          5              Pokemon Red/Pokemon Blue  ...        1.00         31.37\n",
              "...      ...                                   ...  ...         ...           ...\n",
              "16186  16189                           BattleForge  ...        0.00          0.01\n",
              "16187  16190                        Jewel Quest II  ...        0.00          0.01\n",
              "16188  16191                      Toro to Morimori  ...        0.00          0.01\n",
              "16189  16192  Sonic & All-Stars Racing Transformed  ...        0.00          0.01\n",
              "16597  16600                      Spirits & Spells  ...        0.00          0.01\n",
              "\n",
              "[16598 rows x 11 columns]"
            ]
          },
          "metadata": {
            "tags": []
          },
          "execution_count": 44
        }
      ]
    },
    {
      "cell_type": "code",
      "metadata": {
        "id": "mmYlNG71rnwn",
        "colab_type": "code",
        "colab": {
          "base_uri": "https://localhost:8080/",
          "height": 522
        },
        "outputId": "e1ac5447-41dc-466c-d256-c02b60e9ffdb"
      },
      "source": [
        "# Numero de jogos lancados para cada plataforma\n",
        "ledados['Platform'].value_counts().plot(kind = 'bar', figsize = (15,8), grid = True, rot = 0, color = 'green')\n",
        "plt.title('Number of games released for each platform', fontweight='bold', size=18)\n",
        "plt.xlabel('Platform',fontweight='bold', size=15) #nomeando o eixo X, negrito e font 15\n",
        "plt.ylabel('Qty of games released',fontweight='bold', size=15) #nomeando o eixo y, negrito e font 15\n",
        "plt.legend(loc='upper right', prop={'size':12}) # legenda no interior do grafico(direita superior)\n",
        "plt.show() #independe de colocar ou nao. Evita de aparecer isso: \"Text(0, 0.5, 'Qty of games released')\""
      ],
      "execution_count": null,
      "outputs": [
        {
          "output_type": "display_data",
          "data": {
            "image/png": "[encoded data removed]",
            "text/plain": [
              "<Figure size 1080x576 with 1 Axes>"
            ]
          },
          "metadata": {
            "tags": []
          }
        }
      ]
    },
    {
      "cell_type": "code",
      "metadata": {
        "id": "u8GhqRGjsiPb",
        "colab_type": "code",
        "colab": {
          "base_uri": "https://localhost:8080/",
          "height": 752
        },
        "outputId": "2f412e5f-88bc-4d80-c778-d7a0eb29d71f"
      },
      "source": [
        "## Numero de jogos lancados para cada ano\n",
        "ledados['Year'].value_counts()"
      ],
      "execution_count": null,
      "outputs": [
        {
          "output_type": "execute_result",
          "data": {
            "text/plain": [
              "2009.0    1431\n",
              "2008.0    1428\n",
              "2010.0    1259\n",
              "2007.0    1202\n",
              "2011.0    1139\n",
              "2006.0    1008\n",
              "2005.0     941\n",
              "2002.0     829\n",
              "2003.0     775\n",
              "2004.0     763\n",
              "2012.0     657\n",
              "2015.0     614\n",
              "2014.0     582\n",
              "2013.0     546\n",
              "2001.0     482\n",
              "1998.0     379\n",
              "2000.0     349\n",
              "2016.0     344\n",
              "1999.0     338\n",
              "1997.0     289\n",
              "1996.0     263\n",
              "1995.0     219\n",
              "1994.0     121\n",
              "1993.0      60\n",
              "1981.0      46\n",
              "1992.0      43\n",
              "1991.0      41\n",
              "1982.0      36\n",
              "1986.0      21\n",
              "1989.0      17\n",
              "1983.0      17\n",
              "1990.0      16\n",
              "1987.0      16\n",
              "1988.0      15\n",
              "1985.0      14\n",
              "1984.0      14\n",
              "1980.0       9\n",
              "2017.0       3\n",
              "2020.0       1\n",
              "Name: Year, dtype: int64"
            ]
          },
          "metadata": {
            "tags": []
          },
          "execution_count": 86
        }
      ]
    },
    {
      "cell_type": "code",
      "metadata": {
        "id": "d3Tm597ET6Wh",
        "colab_type": "code",
        "colab": {
          "base_uri": "https://localhost:8080/",
          "height": 90
        },
        "outputId": "35f52c20-3883-4639-d0b7-0bac69c857c2"
      },
      "source": [
        "ledados['Platform'].unique()"
      ],
      "execution_count": null,
      "outputs": [
        {
          "output_type": "execute_result",
          "data": {
            "text/plain": [
              "array(['2600', 'NES', 'DS', 'PC', 'GB', 'GEN', 'SNES', 'GG', 'SCD', 'NG',\n",
              "       'PS', 'SAT', '3DO', 'TG16', 'N64', 'PCFX', 'DC', 'WS', 'PS2', 'XB',\n",
              "       'GBA', 'GC', 'PSP', 'X360', 'Wii', 'PS3', 'PSV', '3DS', 'WiiU',\n",
              "       'PS4', 'XOne'], dtype=object)"
            ]
          },
          "metadata": {
            "tags": []
          },
          "execution_count": 32
        }
      ]
    },
    {
      "cell_type": "code",
      "metadata": {
        "id": "x-qFbEmaVO8d",
        "colab_type": "code",
        "colab": {
          "base_uri": "https://localhost:8080/",
          "height": 72
        },
        "outputId": "94aeab00-d523-43d9-a501-1905c5ca9f13"
      },
      "source": [
        "ledados['Name'].unique()"
      ],
      "execution_count": null,
      "outputs": [
        {
          "output_type": "execute_result",
          "data": {
            "text/plain": [
              "array(['Checkers', 'Boxing', 'Freeway', ..., 'Shorts',\n",
              "       'Agarest Senki: Re-appearance', 'Hakuouki: Shinsengumi Kitan'],\n",
              "      dtype=object)"
            ]
          },
          "metadata": {
            "tags": []
          },
          "execution_count": 33
        }
      ]
    },
    {
      "cell_type": "code",
      "metadata": {
        "id": "CKbB0iVhW33I",
        "colab_type": "code",
        "colab": {
          "base_uri": "https://localhost:8080/",
          "height": 72
        },
        "outputId": "5c96e859-7906-4b69-f179-f8f3036e6243"
      },
      "source": [
        "ledados['Genre'].unique()"
      ],
      "execution_count": null,
      "outputs": [
        {
          "output_type": "execute_result",
          "data": {
            "text/plain": [
              "array(['Misc', 'Fighting', 'Action', 'Shooter', 'Sports', 'Puzzle',\n",
              "       'Platform', 'Simulation', 'Racing', 'Adventure', 'Role-Playing',\n",
              "       'Strategy'], dtype=object)"
            ]
          },
          "metadata": {
            "tags": []
          },
          "execution_count": 34
        }
      ]
    },
    {
      "cell_type": "code",
      "metadata": {
        "colab_type": "code",
        "id": "PJzfP_5zX8cl",
        "colab": {
          "base_uri": "https://localhost:8080/",
          "height": 1000
        },
        "outputId": "f3a83c05-c267-4748-bf0a-2dcc8d0f48d7"
      },
      "source": [
        "ledados['Publisher'].unique()"
      ],
      "execution_count": null,
      "outputs": [
        {
          "output_type": "execute_result",
          "data": {
            "text/plain": [
              "array(['Atari', 'Activision', 'Imagic', '20th Century Fox Video Games',\n",
              "       'Mattel Interactive', 'Data Age', 'Parker Bros.', 'Coleco',\n",
              "       'Starpath Corp.', 'Men-A-Vision', 'Taito', 'Unknown',\n",
              "       'Tigervision', 'Mystique', 'Avalon Interactive', 'Sega', 'Bomb',\n",
              "       'CPG Products', 'CBS Electronics', 'ITT Family Games',\n",
              "       'Answer Software', 'Quelle', 'Universal Gamex',\n",
              "       'Wizard Video Games', 'Nintendo', 'Namco Bandai Games',\n",
              "       'Hudson Soft', 'Capcom', 'Mycom', 'Konami Digital Entertainment',\n",
              "       'SquareSoft', 'Enix Corporation', 'Maxis', 'Palcom',\n",
              "       'HAL Laboratory', 'Culture Brain', 'Epoch', 'Square', 'BPS',\n",
              "       'Human Entertainment', 'Tecmo Koei', 'Banpresto', 'Imagineer',\n",
              "       'Kemco', 'Angel Studios', 'Ocean', 'Virgin Interactive',\n",
              "       'Arena Entertainment', 'New World Computing', 'id Software',\n",
              "       'ChunSoft', 'Takara', 'Video System', 'Electronic Arts', 'Laguna',\n",
              "       'Coconuts Japan', 'Interplay', 'Imax', 'SNK', 'Victor Interactive',\n",
              "       'TOHO', 'Titus', 'Sammy Corporation', 'Acclaim Entertainment',\n",
              "       'Misawa', 'T&E Soft', 'Hect', 'Sony Computer Entertainment',\n",
              "       'LucasArts', 'Hasbro Interactive', 'Sunsoft', 'Game Arts', 'Atlus',\n",
              "       'Asmik Corp', 'Media Rings', 'Core Design Ltd.',\n",
              "       'ASCII Entertainment', 'ArtDink', 'Infogrames', 'JVC', 'Vap',\n",
              "       'Red Orb', 'Time Warner Interactive', 'From Software',\n",
              "       'Micro Cabin', 'Psygnosis', 'Yumedia', 'Glams', 'Imageworks',\n",
              "       'U.S. Gold', 'Ubisoft', 'Compile', 'Technos Japan Corporation',\n",
              "       'Shogakukan', 'Crystal Dynamics', 'Sonnet', 'Jaleco',\n",
              "       'Seta Corporation', 'Fuji', 'Data East', 'Vivendi Games',\n",
              "       'SNK Playmore', 'THQ', 'Panther Software', 'New', 'MediaQuest',\n",
              "       'Pack-In-Video', 'Tomy Corporation', 'Microprose',\n",
              "       'GT Interactive', 'Kokopeli Digital Studios', 'Pow', 'Telstar',\n",
              "       'Quest', 'Nichibutsu', 'NEC', 'Riverhillsoft', 'Mindscape',\n",
              "       'Hearty Robin', 'Midway Games', 'Asmik Ace Entertainment',\n",
              "       'Pioneer LDC', 'FunSoft', 'Gremlin Interactive Ltd', 'Natsume',\n",
              "       'Eidos Interactive', 'BMG Interactive Entertainment', 'Gaga',\n",
              "       'NCS', 'Electronic Arts Victor', 'SPS', 'Adeline Software',\n",
              "       'Media Works', 'Nippon Telenet', 'Elf', 'Gust', 'Kadokawa Shoten',\n",
              "       'Fox Interactive', 'American Softworks', 'KSS', 'Elite',\n",
              "       'Accolade', 'CTO SpA', 'Microsoft Game Studios',\n",
              "       'NEC Interchannel', 'Societa', 'ASC Games', 'Empire Interactive',\n",
              "       'SSI', 'ASK', 'Vic Tokai', 'Xing Entertainment', 'Codemasters',\n",
              "       '989 Studios', 'ESP', 'Interplay Productions', 'UEP Systems',\n",
              "       'Take-Two Interactive', 'Origin Systems', 'Playmates', 'Warp',\n",
              "       'Agetec', 'Midas Interactive Entertainment', 'On Demand', 'Aques',\n",
              "       'Imadio', 'Starfish', 'Hudson Entertainment', 'Locus', 'Syscom',\n",
              "       'Evolution Games', 'TYO', 'Irem Software Engineering', 'Mitsui',\n",
              "       'Nippon Ichi Software', 'MTO', 'Crave Entertainment', 'NewKidCo',\n",
              "       'Gainax Network Systems', 'Fortyfive', 'GameTek',\n",
              "       'DreamWorks Interactive', 'D3Publisher', 'KID', '3DO',\n",
              "       'Swing! Entertainment', 'Saurus', 'General Entertainment',\n",
              "       'TechnoSoft', 'Axela', 'Quintet', 'Success', 'Magical Company',\n",
              "       'Culture Publishers', 'Red Storm Entertainment', 'LEGO Media',\n",
              "       'Jorudan', 'Westwood Studios', 'Aqua Plus', 'Genki', '989 Sports',\n",
              "       'Athena', 'SouthPeak Games', 'Square EA', 'PopTop Software',\n",
              "       'Telegames', 'Aruze Corp', 'Pack In Soft',\n",
              "       'Disney Interactive Studios', 'EON Digital Entertainment',\n",
              "       'TDK Core', 'Vatical Entertainment', 'The Learning Company',\n",
              "       'Pony Canyon', 'Havas Interactive', 'Sunrise Interactive',\n",
              "       'Media Factory', 'BAM! Entertainment', 'Blue Byte',\n",
              "       'Activision Value', 'Wanadoo', 'Metro 3D', 'TDK Mediactive',\n",
              "       'Enterbrain', 'Majesco Entertainment', 'Gathering of Developers',\n",
              "       'Conspiracy Entertainment', 'Max Five', 'TalonSoft', 'Magix',\n",
              "       'Rage Software', 'DreamCatcher Interactive', 'Berkeley', 'Spike',\n",
              "       'Sony Music Entertainment', 'Altron', 'Destination Software, Inc',\n",
              "       'Strategy First', 'Universal Interactive', 'Rebellion', 'Encore',\n",
              "       'Sony Computer Entertainment Europe', 'Black Label Games',\n",
              "       '505 Games', 'Hamster Corporation', 'Microids', 'Phantagram',\n",
              "       'Zoo Digital Publishing', 'Arika', 'Ignition Entertainment',\n",
              "       'Simon & Schuster Interactive', 'XS Games', 'Xicat Interactive',\n",
              "       'Marvelous Interactive', 'Playmore', 'Jester Interactive',\n",
              "       'Gotham Games', 'LSP Games', 'Media Entertainment', 'DigiCube',\n",
              "       'Bethesda Softworks', 'NDA Productions', 'Big Ben Interactive',\n",
              "       'King Records', 'SCi', 'Play It', 'Liquid Games', 'Idea Factory',\n",
              "       'Datam Polystar', 'JoWood Productions', 'Princess Soft',\n",
              "       'Nippon Amuse', 'Pacific Century Cyber Works', 'Game Factory',\n",
              "       'Square Enix', 'Aspyr', 'Kool Kizz',\n",
              "       'Warner Bros. Interactive Entertainment',\n",
              "       'Sony Online Entertainment', 'Mud Duck Productions', 'Ghostlight',\n",
              "       'Knowledge Adventure', 'CCP', 'Global Star', nan,\n",
              "       'Illusion Softworks', 'Sunflowers', 'Mad Catz',\n",
              "       'Agatsuma Entertainment', 'responDESIGN', 'Mastiff', 'Sting',\n",
              "       'O3 Entertainment', 'Ascaron Entertainment GmbH',\n",
              "       'Hip Interactive', 'Deep Silver', 'Indie Games', 'Evolved Games',\n",
              "       'Summitsoft', 'MC2 Entertainment', 'Rising Star Games', 'ValuSoft',\n",
              "       'Black Bean Games', 'CDV Software Entertainment', 'RedOctane',\n",
              "       'Groove Games', 'Oxygen Interactive', 'NovaLogic',\n",
              "       'DTP Entertainment', 'Jack of All Games', 'DSI Games', 'Xplosiv',\n",
              "       'NCSoft', 'Essential Games', 'Flashpoint Games',\n",
              "       'Playlogic Game Factory', \"Yuke's\", 'Valcon Games',\n",
              "       'Graphsim Entertainment', 'Interchannel', 'Global A Entertainment',\n",
              "       'Kando Games', 'Daito', 'Myelin Media', 'IE Institute',\n",
              "       'Alchemist', 'Mastertronic', 'Zenrin', 'Focus Home Interactive',\n",
              "       'System 3 Arcade Software', 'Rocket Company', 'Mumbo Jumbo',\n",
              "       'Michaelsoft', 'GN Software', 'Acquire', 'Yeti', 'Takara Tomy',\n",
              "       'PopCap Games', 'Ongakukan', '10TACLE Studios', 'Funsta',\n",
              "       'Yamasa Entertainment', 'Broccoli', 'Sweets', 'Aria', 'Edia',\n",
              "       'Game Life', 'DHM Interactive', 'Flight-Plan', 'Destineer',\n",
              "       'Gakken', 'CyberFront', 'Brash Entertainment', 'Popcorn Arcade',\n",
              "       'Touchstone', 'Kids Station', 'Hackberry', 'Prototype',\n",
              "       'Avanquest', 'Ertain', 'Phenomedia', 'Falcom Corporation',\n",
              "       'Detn8 Games', 'Paon', 'Nobilis', 'Interchannel-Holon',\n",
              "       'Monte Christo Multimedia', 'Neko Entertainment', 'PQube',\n",
              "       'Paradox Interactive', 'RTL', 'Zushi Games', 'UFO Interactive',\n",
              "       'Russel', 'Nordcurrent', 'Grand Prix Games',\n",
              "       'Blast! Entertainment Ltd', 'White Park Bay Software',\n",
              "       'AQ Interactive', 'Scholastic Inc.', 'Tommo', 'Kalypso Media',\n",
              "       'Lighthouse Interactive', 'Warashi', 'CokeM Interactive',\n",
              "       'Lexicon Entertainment', 'Benesse', 'Phoenix Games',\n",
              "       'Mercury Games', 'Data Design Interactive', 'Gameloft',\n",
              "       'Arc System Works', 'Pinnacle', 'Ivolgamus', 'Gamecock',\n",
              "       'MTV Games', 'Codemasters Online', 'GungHo', 'Creative Core',\n",
              "       'Rondomedia', 'Zoo Games', 'Koch Media', 'Naxat Soft',\n",
              "       'Aksys Games', '2D Boy', 'fonfun', 'Cave', 'City Interactive',\n",
              "       'Tivola', 'System Soft', '5pb', 'Nordic Games', 'Vir2L Studios',\n",
              "       'Navarre Corp', 'Tryfirst', 'Dorart', 'ASCII Media Works',\n",
              "       'Compile Heart', 'Gamebridge', 'GSP', 'Crimson Cow', 'GOA',\n",
              "       'Mamba Games', 'Minato Station', 'The Adventure Company',\n",
              "       'Graffiti', 'Big Fish Games', 'Commseed', 'Moss',\n",
              "       'HMH Interactive', 'Milestone', 'Mirai Shounen',\n",
              "       'Legacy Interactive', 'Ubisoft Annecy', 'G.Rev',\n",
              "       'Performance Designed Products', 'TGL', 'Merscom LLC', 'Alvion',\n",
              "       'Daedalic', 'Mentor Interactive', 'Storm City Games',\n",
              "       'Valve Software', 'O-Games', 'Genterprise', 'Level 5',\n",
              "       '1C Company', 'Revolution (Japan)', 'Slitherine Software',\n",
              "       'PM Studios', 'Astragon', 'Ecole', 'P2 Games', 'Phantom EFX',\n",
              "       'Enjoy Gaming ltd.', 'Ackkstudios', 'bitComposer Games', 'PlayV',\n",
              "       'Reef Entertainment', 'Number None', '49Games',\n",
              "       'Alawar Entertainment', 'Devolver Digital', 'Virtual Play Games',\n",
              "       'Just Flight', 'Foreign Media Games', 'Karin Entertainment',\n",
              "       'Comfort', 'Asylum Entertainment', 'Little Orbit',\n",
              "       'Griffin International', 'Abylight', 'Alternative Software',\n",
              "       'NetRevo', 'Asgard', 'Nexon', '7G//AMES', 'FuRyu', 'Tradewest',\n",
              "       'Aerosoft', 'RED Entertainment', 'GameMill Entertainment',\n",
              "       'Home Entertainment Suppliers', 'Funcom', 'Piacci',\n",
              "       'Team17 Software', 'Kamui', 'Plenty', 'Quinrose', 'Funbox Media',\n",
              "       'Telltale Games', 'Iceberg Interactive', 'Visco', 'iWin',\n",
              "       'Masque Publishing', 'Valve', 'Excalibur Publishing', 'Takuyo',\n",
              "       'Her Interactive', 'Wargaming.net', 'Tripwire Interactive',\n",
              "       'TopWare Interactive', 'Tetris Online', 'Nihon Falcom Corporation',\n",
              "       'Avanquest Software', 'Nippon Columbia',\n",
              "       'Cloud Imperium Games Corporation', 'Marvelous Entertainment',\n",
              "       'EA Games', 'SCS Software', 'Ascaron Entertainment', 'Fields',\n",
              "       'Kadokawa Games', 'Easy Interactive', 'Licensed 4U',\n",
              "       'Maximum Family Games', 'Interworks Unlimited, Inc.',\n",
              "       'Daedalic Entertainment', 'Focus Multimedia', 'Giza10', 'Views',\n",
              "       'Trion Worlds', 'BushiRoad', 'Image Epoch', 'Xseed Games',\n",
              "       'Screenlife', 'System 3', 'Seventh Chord', 'Boost On',\n",
              "       'Bohemia Interactive', 'Headup Games', 'Office Create',\n",
              "       'Paon Corporation', 'Kaga Create', 'Otomate', 'Milestone S.r.l.',\n",
              "       'Nitroplus', 'Idea Factory International', 'Happinet',\n",
              "       'Sony Computer Entertainment America', 'Experience Inc.',\n",
              "       'imageepoch Inc.', 'Tru Blu Entertainment', 'Giga', 'Type-Moon',\n",
              "       'Activision Blizzard', 'Bigben Interactive', 'Marvelous Games',\n",
              "       'Slightly Mad Studios', 'dramatic create', 'Rain Games',\n",
              "       'mixi, Inc', 'Rebellion Developments', 'inXile Entertainment',\n",
              "       'Yacht Club Games', 'Harmonix Music Systems', 'Mojang', 'HuneX',\n",
              "       'Marvel Entertainment', 'Revolution Software', 'Cygames',\n",
              "       'Extreme Entertainment Group', 'Intergrow',\n",
              "       'WayForward Technologies', 'FuRyu Corporation', 'Sold Out',\n",
              "       'Stainless Games', 'Epic Games', 'Insomniac Games',\n",
              "       'Milestone S.r.l', 'MLB.com', 'Introversion Software',\n",
              "       'Dusenberry Martin Racing', 'Inti Creates', 'UIG Entertainment',\n",
              "       'Paradox Development', 'Hello Games', 'Ultravision', 'Sears'],\n",
              "      dtype=object)"
            ]
          },
          "metadata": {
            "tags": []
          },
          "execution_count": 39
        }
      ]
    },
    {
      "cell_type": "code",
      "metadata": {
        "id": "3uAnr8zM_3I0",
        "colab_type": "code",
        "colab": {}
      },
      "source": [
        "plt.rcParams['figure.figsize'] = (11, 7)"
      ],
      "execution_count": null,
      "outputs": []
    },
    {
      "cell_type": "code",
      "metadata": {
        "id": "r1g_f3XUdAQV",
        "colab_type": "code",
        "colab": {
          "base_uri": "https://localhost:8080/",
          "height": 883
        },
        "outputId": "6252641d-a29f-4d8b-eee4-acb7075e86d4"
      },
      "source": [
        "ledados['Global_Sales' ].plot.hist(bins=10, edgecolor='black')\n",
        "plt.xlabel(\"Global_Sales\")\n",
        "plt.show()\n",
        "\n",
        "ledados['Other_Sales' ].plot.hist(bins=10, edgecolor='black')\n",
        "plt.xlabel(\"Other_Sales\")\n",
        "plt.show()\n",
        "\n"
      ],
      "execution_count": null,
      "outputs": [
        {
          "output_type": "display_data",
          "data": {
            "image/png": "[encoded data removed]",
            "text/plain": [
              "<Figure size 640x480 with 1 Axes>"
            ]
          },
          "metadata": {
            "tags": []
          }
        },
        {
          "output_type": "display_data",
          "data": {
            "image/png": "[encoded data removed]",
            "text/plain": [
              "<Figure size 640x480 with 1 Axes>"
            ]
          },
          "metadata": {
            "tags": []
          }
        }
      ]
    },
    {
      "cell_type": "code",
      "metadata": {
        "id": "9FL1rMBuAUvw",
        "colab_type": "code",
        "colab": {
          "base_uri": "https://localhost:8080/",
          "height": 428
        },
        "outputId": "49fa0480-4987-4b62-e7a7-711dec66b77b"
      },
      "source": [
        "plt.plot( ledados.Global_Sales, '*-')\n",
        "plt.show()"
      ],
      "execution_count": null,
      "outputs": [
        {
          "output_type": "display_data",
          "data": {
            "image/png": "[encoded data removed]",
            "text/plain": [
              "<Figure size 792x504 with 1 Axes>"
            ]
          },
          "metadata": {
            "tags": []
          }
        }
      ]
    },
    {
      "cell_type": "code",
      "metadata": {
        "id": "Jb6e8OymBdYT",
        "colab_type": "code",
        "colab": {
          "base_uri": "https://localhost:8080/",
          "height": 430
        },
        "outputId": "527f383a-0a21-4202-c0e2-1dd9a4511142"
      },
      "source": [
        "plt.scatter(ledados.Rank, ledados.Global_Sales)\n",
        "plt.ylabel(\"Global_Sales\")\n",
        "plt.show()"
      ],
      "execution_count": null,
      "outputs": [
        {
          "output_type": "display_data",
          "data": {
            "image/png": "[encoded data removed]",
            "text/plain": [
              "<Figure size 640x480 with 1 Axes>"
            ]
          },
          "metadata": {
            "tags": []
          }
        }
      ]
    },
    {
      "cell_type": "code",
      "metadata": {
        "id": "HLPrAnDZteUC",
        "colab_type": "code",
        "colab": {
          "base_uri": "https://localhost:8080/",
          "height": 81
        },
        "outputId": "d2169412-e0aa-4d7b-e047-feea6d18cdea"
      },
      "source": [
        "ledados.query('Global_Sales > 80')"
      ],
      "execution_count": null,
      "outputs": [
        {
          "output_type": "execute_result",
          "data": {
            "text/html": [
              "<div>\n",
              "<style scoped>\n",
              "    .dataframe tbody tr th:only-of-type {\n",
              "        vertical-align: middle;\n",
              "    }\n",
              "\n",
              "    .dataframe tbody tr th {\n",
              "        vertical-align: top;\n",
              "    }\n",
              "\n",
              "    .dataframe thead th {\n",
              "        text-align: right;\n",
              "    }\n",
              "</style>\n",
              "<table border=\"1\" class=\"dataframe\">\n",
              "  <thead>\n",
              "    <tr style=\"text-align: right;\">\n",
              "      <th></th>\n",
              "      <th>Rank</th>\n",
              "      <th>Name</th>\n",
              "      <th>Platform</th>\n",
              "      <th>Year</th>\n",
              "      <th>Genre</th>\n",
              "      <th>Publisher</th>\n",
              "      <th>NA_Sales</th>\n",
              "      <th>EU_Sales</th>\n",
              "      <th>JP_Sales</th>\n",
              "      <th>Other_Sales</th>\n",
              "      <th>Global_Sales</th>\n",
              "    </tr>\n",
              "  </thead>\n",
              "  <tbody>\n",
              "    <tr>\n",
              "      <th>0</th>\n",
              "      <td>1</td>\n",
              "      <td>Wii Sports</td>\n",
              "      <td>Wii</td>\n",
              "      <td>2006.0</td>\n",
              "      <td>Sports</td>\n",
              "      <td>Nintendo</td>\n",
              "      <td>41.49</td>\n",
              "      <td>29.02</td>\n",
              "      <td>3.77</td>\n",
              "      <td>8.46</td>\n",
              "      <td>82.74</td>\n",
              "    </tr>\n",
              "  </tbody>\n",
              "</table>\n",
              "</div>"
            ],
            "text/plain": [
              "   Rank        Name Platform  ...  JP_Sales Other_Sales Global_Sales\n",
              "0     1  Wii Sports      Wii  ...      3.77        8.46        82.74\n",
              "\n",
              "[1 rows x 11 columns]"
            ]
          },
          "metadata": {
            "tags": []
          },
          "execution_count": 63
        }
      ]
    },
    {
      "cell_type": "code",
      "metadata": {
        "id": "zvkkw-DGh24L",
        "colab_type": "code",
        "colab": {
          "base_uri": "https://localhost:8080/",
          "height": 430
        },
        "outputId": "954fcd72-fbc4-4de8-c00b-8a87f805a9cd"
      },
      "source": [
        "plt.scatter(ledados.Rank, ledados.Other_Sales)\n",
        "plt.ylabel(\"Other_Sales\")\n",
        "plt.show()"
      ],
      "execution_count": null,
      "outputs": [
        {
          "output_type": "display_data",
          "data": {
            "image/png": "[encoded data removed]",
            "text/plain": [
              "<Figure size 640x480 with 1 Axes>"
            ]
          },
          "metadata": {
            "tags": []
          }
        }
      ]
    },
    {
      "cell_type": "code",
      "metadata": {
        "id": "_A7hrkEMtoDp",
        "colab_type": "code",
        "colab": {}
      },
      "source": [
        "#ledados_vendas = ledados.query('EU_Sales > JP_Sales') #sem sucesso depois da query ->.sort_values('EU_Sales', ascending=False)\n",
        "#ledados_vendas.loc[1:10 ,['Name','EU_Sales', 'JP_Sales']].sort_values('EU_Sales', ascending=False)"
      ],
      "execution_count": null,
      "outputs": []
    },
    {
      "cell_type": "code",
      "metadata": {
        "id": "NgT7XcP8iHot",
        "colab_type": "code",
        "colab": {}
      },
      "source": [
        "#ledados_vendas"
      ],
      "execution_count": null,
      "outputs": []
    },
    {
      "cell_type": "code",
      "metadata": {
        "id": "PCg9r3oxoYyO",
        "colab_type": "code",
        "colab": {}
      },
      "source": [
        "#criando um novo dataframe para a tabela logo em seguida\n",
        "ledados2 = pd.DataFrame({ \"Rank\": ledados.Rank.values,\n",
        "                         \"Platform\": ledados.Platform.values,\n",
        "                          \"Name_Game\": ledados.Name.values,\n",
        "                         \"Global_Sales\": ledados.Global_Sales.values,\n",
        "                         \"Year\": ledados.Year.values\n",
        "                         \n",
        "                          })"
      ],
      "execution_count": null,
      "outputs": []
    },
    {
      "cell_type": "code",
      "metadata": {
        "id": "JddA9iEHpO4M",
        "colab_type": "code",
        "colab": {
          "base_uri": "https://localhost:8080/",
          "height": 424
        },
        "outputId": "494ef250-43ca-4e7b-858b-ab12aa5146f8"
      },
      "source": [
        "ledados2"
      ],
      "execution_count": null,
      "outputs": [
        {
          "output_type": "execute_result",
          "data": {
            "text/html": [
              "<div>\n",
              "<style scoped>\n",
              "    .dataframe tbody tr th:only-of-type {\n",
              "        vertical-align: middle;\n",
              "    }\n",
              "\n",
              "    .dataframe tbody tr th {\n",
              "        vertical-align: top;\n",
              "    }\n",
              "\n",
              "    .dataframe thead th {\n",
              "        text-align: right;\n",
              "    }\n",
              "</style>\n",
              "<table border=\"1\" class=\"dataframe\">\n",
              "  <thead>\n",
              "    <tr style=\"text-align: right;\">\n",
              "      <th></th>\n",
              "      <th>Rank</th>\n",
              "      <th>Platform</th>\n",
              "      <th>Name_Game</th>\n",
              "      <th>Global_Sales</th>\n",
              "      <th>Year</th>\n",
              "    </tr>\n",
              "  </thead>\n",
              "  <tbody>\n",
              "    <tr>\n",
              "      <th>0</th>\n",
              "      <td>1</td>\n",
              "      <td>Wii</td>\n",
              "      <td>Wii Sports</td>\n",
              "      <td>82.74</td>\n",
              "      <td>2006.0</td>\n",
              "    </tr>\n",
              "    <tr>\n",
              "      <th>1</th>\n",
              "      <td>2</td>\n",
              "      <td>NES</td>\n",
              "      <td>Super Mario Bros.</td>\n",
              "      <td>40.24</td>\n",
              "      <td>1985.0</td>\n",
              "    </tr>\n",
              "    <tr>\n",
              "      <th>2</th>\n",
              "      <td>3</td>\n",
              "      <td>Wii</td>\n",
              "      <td>Mario Kart Wii</td>\n",
              "      <td>35.82</td>\n",
              "      <td>2008.0</td>\n",
              "    </tr>\n",
              "    <tr>\n",
              "      <th>3</th>\n",
              "      <td>4</td>\n",
              "      <td>Wii</td>\n",
              "      <td>Wii Sports Resort</td>\n",
              "      <td>33.00</td>\n",
              "      <td>2009.0</td>\n",
              "    </tr>\n",
              "    <tr>\n",
              "      <th>4</th>\n",
              "      <td>5</td>\n",
              "      <td>GB</td>\n",
              "      <td>Pokemon Red/Pokemon Blue</td>\n",
              "      <td>31.37</td>\n",
              "      <td>1996.0</td>\n",
              "    </tr>\n",
              "    <tr>\n",
              "      <th>...</th>\n",
              "      <td>...</td>\n",
              "      <td>...</td>\n",
              "      <td>...</td>\n",
              "      <td>...</td>\n",
              "      <td>...</td>\n",
              "    </tr>\n",
              "    <tr>\n",
              "      <th>16593</th>\n",
              "      <td>16596</td>\n",
              "      <td>GBA</td>\n",
              "      <td>Woody Woodpecker in Crazy Castle 5</td>\n",
              "      <td>0.01</td>\n",
              "      <td>2002.0</td>\n",
              "    </tr>\n",
              "    <tr>\n",
              "      <th>16594</th>\n",
              "      <td>16597</td>\n",
              "      <td>GC</td>\n",
              "      <td>Men in Black II: Alien Escape</td>\n",
              "      <td>0.01</td>\n",
              "      <td>2003.0</td>\n",
              "    </tr>\n",
              "    <tr>\n",
              "      <th>16595</th>\n",
              "      <td>16598</td>\n",
              "      <td>PS2</td>\n",
              "      <td>SCORE International Baja 1000: The Official Game</td>\n",
              "      <td>0.01</td>\n",
              "      <td>2008.0</td>\n",
              "    </tr>\n",
              "    <tr>\n",
              "      <th>16596</th>\n",
              "      <td>16599</td>\n",
              "      <td>DS</td>\n",
              "      <td>Know How 2</td>\n",
              "      <td>0.01</td>\n",
              "      <td>2010.0</td>\n",
              "    </tr>\n",
              "    <tr>\n",
              "      <th>16597</th>\n",
              "      <td>16600</td>\n",
              "      <td>GBA</td>\n",
              "      <td>Spirits &amp; Spells</td>\n",
              "      <td>0.01</td>\n",
              "      <td>2003.0</td>\n",
              "    </tr>\n",
              "  </tbody>\n",
              "</table>\n",
              "<p>16598 rows × 5 columns</p>\n",
              "</div>"
            ],
            "text/plain": [
              "        Rank Platform  ... Global_Sales    Year\n",
              "0          1      Wii  ...        82.74  2006.0\n",
              "1          2      NES  ...        40.24  1985.0\n",
              "2          3      Wii  ...        35.82  2008.0\n",
              "3          4      Wii  ...        33.00  2009.0\n",
              "4          5       GB  ...        31.37  1996.0\n",
              "...      ...      ...  ...          ...     ...\n",
              "16593  16596      GBA  ...         0.01  2002.0\n",
              "16594  16597       GC  ...         0.01  2003.0\n",
              "16595  16598      PS2  ...         0.01  2008.0\n",
              "16596  16599       DS  ...         0.01  2010.0\n",
              "16597  16600      GBA  ...         0.01  2003.0\n",
              "\n",
              "[16598 rows x 5 columns]"
            ]
          },
          "metadata": {
            "tags": []
          },
          "execution_count": 30
        }
      ]
    },
    {
      "cell_type": "code",
      "metadata": {
        "id": "FY4tIU7gX2RZ",
        "colab_type": "code",
        "colab": {
          "base_uri": "https://localhost:8080/",
          "height": 522
        },
        "outputId": "64e065f0-fad2-4d94-d06b-2ef1d9e351be"
      },
      "source": [
        "#Criando um gráfico utilizando apenas uma linha de código \n",
        "ledados2['Platform'].value_counts().head(10).plot(kind = 'bar', figsize = (15,8), grid = True, rot = 0, color = 'green')\n",
        "#chamei a variável que acessa o dataset, acessei o top 10 por plata forma e criei um grafico usando a funcao plot com seus atributos\n",
        "\n",
        "#Enfeitando o gráfico. Abaixo, definimos um título\n",
        "plt.title('The 10 Video Games with the most titles released', fontweight='bold', size=18)\n",
        "plt.xlabel('Videogames',fontweight='bold', size=15) #nomeando o eixo X\n",
        "plt.ylabel('Qty of games released',fontweight='bold', size=15) #nomeando o eixo y\n",
        "plt.show() #independe de colocar ou nao. Evita de aparecer isso: \"Text(0, 0.5, 'Qty of games released')\""
      ],
      "execution_count": null,
      "outputs": [
        {
          "output_type": "display_data",
          "data": {
            "image/png": "[encoded data removed]",
            "text/plain": [
              "<Figure size 1080x576 with 1 Axes>"
            ]
          },
          "metadata": {
            "tags": []
          }
        }
      ]
    },
    {
      "cell_type": "code",
      "metadata": {
        "id": "D3MlI_wsXf38",
        "colab_type": "code",
        "colab": {}
      },
      "source": [
        ""
      ],
      "execution_count": null,
      "outputs": []
    },
    {
      "cell_type": "code",
      "metadata": {
        "id": "rekZYAa0mZpb",
        "colab_type": "code",
        "colab": {}
      },
      "source": [
        "#mostrar os dados do dataframe no intervalo de 1 ate 100\n",
        "ledado3 = ledados.loc[1 : 100 , ['Year', 'Name', 'NA_Sales' ,\t'EU_Sales' ,\t'JP_Sales' ,\t'Other_Sales' ,\t'Global_Sales']]"
      ],
      "execution_count": null,
      "outputs": []
    },
    {
      "cell_type": "code",
      "metadata": {
        "id": "NWHFt-u2pDFe",
        "colab_type": "code",
        "colab": {
          "base_uri": "https://localhost:8080/",
          "height": 424
        },
        "outputId": "01eec98e-c5ca-4b20-cbaa-c7fdae50d782"
      },
      "source": [
        "ledado3"
      ],
      "execution_count": null,
      "outputs": [
        {
          "output_type": "execute_result",
          "data": {
            "text/html": [
              "<div>\n",
              "<style scoped>\n",
              "    .dataframe tbody tr th:only-of-type {\n",
              "        vertical-align: middle;\n",
              "    }\n",
              "\n",
              "    .dataframe tbody tr th {\n",
              "        vertical-align: top;\n",
              "    }\n",
              "\n",
              "    .dataframe thead th {\n",
              "        text-align: right;\n",
              "    }\n",
              "</style>\n",
              "<table border=\"1\" class=\"dataframe\">\n",
              "  <thead>\n",
              "    <tr style=\"text-align: right;\">\n",
              "      <th></th>\n",
              "      <th>Year</th>\n",
              "      <th>Name</th>\n",
              "      <th>NA_Sales</th>\n",
              "      <th>EU_Sales</th>\n",
              "      <th>JP_Sales</th>\n",
              "      <th>Other_Sales</th>\n",
              "      <th>Global_Sales</th>\n",
              "    </tr>\n",
              "  </thead>\n",
              "  <tbody>\n",
              "    <tr>\n",
              "      <th>1</th>\n",
              "      <td>1985.0</td>\n",
              "      <td>Super Mario Bros.</td>\n",
              "      <td>29.08</td>\n",
              "      <td>3.58</td>\n",
              "      <td>6.81</td>\n",
              "      <td>0.77</td>\n",
              "      <td>40.24</td>\n",
              "    </tr>\n",
              "    <tr>\n",
              "      <th>2</th>\n",
              "      <td>2008.0</td>\n",
              "      <td>Mario Kart Wii</td>\n",
              "      <td>15.85</td>\n",
              "      <td>12.88</td>\n",
              "      <td>3.79</td>\n",
              "      <td>3.31</td>\n",
              "      <td>35.82</td>\n",
              "    </tr>\n",
              "    <tr>\n",
              "      <th>3</th>\n",
              "      <td>2009.0</td>\n",
              "      <td>Wii Sports Resort</td>\n",
              "      <td>15.75</td>\n",
              "      <td>11.01</td>\n",
              "      <td>3.28</td>\n",
              "      <td>2.96</td>\n",
              "      <td>33.00</td>\n",
              "    </tr>\n",
              "    <tr>\n",
              "      <th>4</th>\n",
              "      <td>1996.0</td>\n",
              "      <td>Pokemon Red/Pokemon Blue</td>\n",
              "      <td>11.27</td>\n",
              "      <td>8.89</td>\n",
              "      <td>10.22</td>\n",
              "      <td>1.00</td>\n",
              "      <td>31.37</td>\n",
              "    </tr>\n",
              "    <tr>\n",
              "      <th>5</th>\n",
              "      <td>1989.0</td>\n",
              "      <td>Tetris</td>\n",
              "      <td>23.20</td>\n",
              "      <td>2.26</td>\n",
              "      <td>4.22</td>\n",
              "      <td>0.58</td>\n",
              "      <td>30.26</td>\n",
              "    </tr>\n",
              "    <tr>\n",
              "      <th>...</th>\n",
              "      <td>...</td>\n",
              "      <td>...</td>\n",
              "      <td>...</td>\n",
              "      <td>...</td>\n",
              "      <td>...</td>\n",
              "      <td>...</td>\n",
              "      <td>...</td>\n",
              "    </tr>\n",
              "    <tr>\n",
              "      <th>96</th>\n",
              "      <td>1988.0</td>\n",
              "      <td>Super Mario Bros. 2</td>\n",
              "      <td>5.39</td>\n",
              "      <td>1.18</td>\n",
              "      <td>0.70</td>\n",
              "      <td>0.19</td>\n",
              "      <td>7.46</td>\n",
              "    </tr>\n",
              "    <tr>\n",
              "      <th>97</th>\n",
              "      <td>2014.0</td>\n",
              "      <td>Super Smash Bros. for Wii U and 3DS</td>\n",
              "      <td>3.24</td>\n",
              "      <td>1.35</td>\n",
              "      <td>2.42</td>\n",
              "      <td>0.43</td>\n",
              "      <td>7.45</td>\n",
              "    </tr>\n",
              "    <tr>\n",
              "      <th>98</th>\n",
              "      <td>2008.0</td>\n",
              "      <td>Call of Duty: World at War</td>\n",
              "      <td>4.79</td>\n",
              "      <td>1.90</td>\n",
              "      <td>0.00</td>\n",
              "      <td>0.69</td>\n",
              "      <td>7.37</td>\n",
              "    </tr>\n",
              "    <tr>\n",
              "      <th>99</th>\n",
              "      <td>2011.0</td>\n",
              "      <td>Battlefield 3</td>\n",
              "      <td>4.46</td>\n",
              "      <td>2.13</td>\n",
              "      <td>0.06</td>\n",
              "      <td>0.69</td>\n",
              "      <td>7.34</td>\n",
              "    </tr>\n",
              "    <tr>\n",
              "      <th>100</th>\n",
              "      <td>2006.0</td>\n",
              "      <td>The Legend of Zelda: Twilight Princess</td>\n",
              "      <td>3.83</td>\n",
              "      <td>2.19</td>\n",
              "      <td>0.60</td>\n",
              "      <td>0.70</td>\n",
              "      <td>7.31</td>\n",
              "    </tr>\n",
              "  </tbody>\n",
              "</table>\n",
              "<p>100 rows × 7 columns</p>\n",
              "</div>"
            ],
            "text/plain": [
              "       Year                                    Name  ...  Other_Sales  Global_Sales\n",
              "1    1985.0                       Super Mario Bros.  ...         0.77         40.24\n",
              "2    2008.0                          Mario Kart Wii  ...         3.31         35.82\n",
              "3    2009.0                       Wii Sports Resort  ...         2.96         33.00\n",
              "4    1996.0                Pokemon Red/Pokemon Blue  ...         1.00         31.37\n",
              "5    1989.0                                  Tetris  ...         0.58         30.26\n",
              "..      ...                                     ...  ...          ...           ...\n",
              "96   1988.0                     Super Mario Bros. 2  ...         0.19          7.46\n",
              "97   2014.0     Super Smash Bros. for Wii U and 3DS  ...         0.43          7.45\n",
              "98   2008.0              Call of Duty: World at War  ...         0.69          7.37\n",
              "99   2011.0                           Battlefield 3  ...         0.69          7.34\n",
              "100  2006.0  The Legend of Zelda: Twilight Princess  ...         0.70          7.31\n",
              "\n",
              "[100 rows x 7 columns]"
            ]
          },
          "metadata": {
            "tags": []
          },
          "execution_count": 34
        }
      ]
    },
    {
      "cell_type": "code",
      "metadata": {
        "id": "fl0fmyuWN8TD",
        "colab_type": "code",
        "colab": {
          "base_uri": "https://localhost:8080/",
          "height": 467
        },
        "outputId": "9deb8456-d6a2-4fd5-c9dd-97165f0930d4"
      },
      "source": [
        "#O dataframe( revebendo Nome e venda global) com os 10 jogos mais vendidos \n",
        "vendidos_10 = ledado3[['Name','Global_Sales']].head(10).set_index('Name').sort_values('Global_Sales', ascending=True)\n",
        "vendidos_10.plot(kind='barh', figsize=(11,7), grid=False, color='darkred', legend=False)\n",
        "\n",
        "\n",
        "plt.title('The 10 best selling games in the world', fontweight='bold', size=18)\n",
        "plt.xlabel('Total sales (in millions of dollars)', fontweight='bold', size=15)\n",
        "plt.ylabel('Name', fontweight='bold', size=15)\n",
        "plt.show()"
      ],
      "execution_count": null,
      "outputs": [
        {
          "output_type": "display_data",
          "data": {
            "image/png": "[encoded data removed]",
            "text/plain": [
              "<Figure size 792x504 with 1 Axes>"
            ]
          },
          "metadata": {
            "tags": []
          }
        }
      ]
    },
    {
      "cell_type": "code",
      "metadata": {
        "id": "Q08ybzdi5huk",
        "colab_type": "code",
        "colab": {
          "base_uri": "https://localhost:8080/",
          "height": 256
        },
        "outputId": "d07c9e43-41a2-4486-a79b-bf8164aef5a6"
      },
      "source": [
        "ledado3.groupby(by='Name')['Global_Sales'].mean()\n",
        "#A media das vendas globais por nome de game"
      ],
      "execution_count": null,
      "outputs": [
        {
          "output_type": "execute_result",
          "data": {
            "text/plain": [
              "Name\n",
              "Animal Crossing: New Leaf                        9.09\n",
              "Animal Crossing: Wild World                     12.27\n",
              "Battlefield 3                                    7.34\n",
              "Brain Age 2: More Training in Minutes a Day     15.30\n",
              "Brain Age: Train Your Brain in Minutes a Day    20.22\n",
              "                                                ...  \n",
              "Wii Fit                                         22.72\n",
              "Wii Fit Plus                                    22.00\n",
              "Wii Party                                        8.49\n",
              "Wii Play                                        29.02\n",
              "Wii Sports Resort                               33.00\n",
              "Name: Global_Sales, Length: 91, dtype: float64"
            ]
          },
          "metadata": {
            "tags": []
          },
          "execution_count": 7
        }
      ]
    },
    {
      "cell_type": "code",
      "metadata": {
        "id": "SnmKOtPO_vYc",
        "colab_type": "code",
        "colab": {
          "base_uri": "https://localhost:8080/",
          "height": 256
        },
        "outputId": "2a6c0988-8d07-4a78-8cd2-0670cb82d1d7"
      },
      "source": [
        "ledado3.groupby(by=['Year', 'Name'])['Global_Sales'].mean()"
      ],
      "execution_count": null,
      "outputs": [
        {
          "output_type": "execute_result",
          "data": {
            "text/plain": [
              "Year    Name                                     \n",
              "1982.0  Pac-Man                                       7.81\n",
              "1984.0  Duck Hunt                                    28.31\n",
              "1985.0  Super Mario Bros.                            40.24\n",
              "1988.0  Super Mario Bros. 2                           7.46\n",
              "        Super Mario Bros. 3                          17.28\n",
              "                                                     ...  \n",
              "2014.0  Pokemon Omega Ruby/Pokemon Alpha Sapphire    11.33\n",
              "        Super Smash Bros. for Wii U and 3DS           7.45\n",
              "2015.0  Call of Duty: Black Ops 3                    14.24\n",
              "        FIFA 16                                       8.49\n",
              "        Star Wars Battlefront (2015)                  7.67\n",
              "Name: Global_Sales, Length: 93, dtype: float64"
            ]
          },
          "metadata": {
            "tags": []
          },
          "execution_count": 8
        }
      ]
    }
  ]
}